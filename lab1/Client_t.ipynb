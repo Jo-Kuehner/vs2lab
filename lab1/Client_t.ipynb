{
 "cells": [
  {
   "cell_type": "markdown",
   "metadata": {},
   "source": [
    "# Running server and client in separate notebooks - client part\n",
    "\n",
    "Here we start the client. The server needs to be started first. Lets go...."
   ]
  },
  {
   "cell_type": "code",
   "execution_count": 7,
   "metadata": {},
   "outputs": [
    {
     "name": "stderr",
     "output_type": "stream",
     "text": [
      "2024-04-18 10:43:23,234 - vs2lab.a1_layers.clientserver.Client - INFO - Client connected to socket <socket.socket fd=56, family=2, type=1, proto=0, laddr=('127.0.0.1', 37900), raddr=('127.0.0.1', 50007)>\n"
     ]
    }
   ],
   "source": [
    "import clientserver_t # import from our script\n",
    "\n",
    "client = clientserver_t.Client() # Create a client instance"
   ]
  },
  {
   "cell_type": "markdown",
   "metadata": {},
   "source": [
    "Choose the function you want to execute"
   ]
  },
  {
   "cell_type": "code",
   "execution_count": 6,
   "metadata": {},
   "outputs": [
    {
     "name": "stderr",
     "output_type": "stream",
     "text": [
      "2024-04-18 10:43:17,687 - vs2lab.a1_layers.clientserver.Client - INFO - Client sent request:GBauer\n",
      "2024-04-18 10:43:17,702 - vs2lab.a1_layers.clientserver.Client - INFO - Client recieved response:Markus Bauer: 52780574396, Michael Bauer: 643643708598\n",
      "2024-04-18 10:43:17,706 - vs2lab.a1_layers.clientserver.Client - INFO - Client down.\n"
     ]
    },
    {
     "name": "stdout",
     "output_type": "stream",
     "text": [
      "Markus Bauer: 52780574396, Michael Bauer: 643643708598\n"
     ]
    },
    {
     "data": {
      "text/plain": [
       "'Markus Bauer: 52780574396, Michael Bauer: 643643708598'"
      ]
     },
     "execution_count": 6,
     "metadata": {},
     "output_type": "execute_result"
    }
   ],
   "source": [
    "client.get(\"Bauer\")"
   ]
  },
  {
   "cell_type": "code",
   "execution_count": 8,
   "metadata": {},
   "outputs": [
    {
     "name": "stderr",
     "output_type": "stream",
     "text": [
      "2024-04-18 10:43:26,510 - vs2lab.a1_layers.clientserver.Client - INFO - Client sent request:A\n",
      "2024-04-18 10:43:26,520 - vs2lab.a1_layers.clientserver.Client - INFO - Client recieved response:Markus Bauer: 52780574396, Michael Bauer: 643643708598, Lisa Meier: 5730496794634\n",
      "2024-04-18 10:43:26,524 - vs2lab.a1_layers.clientserver.Client - INFO - Client down.\n"
     ]
    },
    {
     "name": "stdout",
     "output_type": "stream",
     "text": [
      "Markus Bauer: 52780574396, Michael Bauer: 643643708598, Lisa Meier: 5730496794634\n"
     ]
    },
    {
     "data": {
      "text/plain": [
       "'Markus Bauer: 52780574396, Michael Bauer: 643643708598, Lisa Meier: 5730496794634'"
      ]
     },
     "execution_count": 8,
     "metadata": {},
     "output_type": "execute_result"
    }
   ],
   "source": [
    "\n",
    "client.getAll() # start the call and print echo"
   ]
  },
  {
   "cell_type": "markdown",
   "metadata": {},
   "source": [
    "Finished."
   ]
  }
 ],
 "metadata": {
  "kernelspec": {
   "display_name": "Python 3 (ipykernel)",
   "language": "python",
   "name": "python3"
  },
  "language_info": {
   "codemirror_mode": {
    "name": "ipython",
    "version": 3
   },
   "file_extension": ".py",
   "mimetype": "text/x-python",
   "name": "python",
   "nbconvert_exporter": "python",
   "pygments_lexer": "ipython3",
   "version": "3.11.4"
  }
 },
 "nbformat": 4,
 "nbformat_minor": 4
}
