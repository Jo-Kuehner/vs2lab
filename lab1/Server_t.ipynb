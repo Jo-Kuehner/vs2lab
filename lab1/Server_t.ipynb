{
 "cells": [
  {
   "cell_type": "markdown",
   "metadata": {},
   "source": [
    "# Running server and client in separate notebooks - server part\n",
    "This is the first notebook we need to run in this constelation. Note that the client notebook needs to be run now in a separate window."
   ]
  },
  {
   "cell_type": "code",
   "execution_count": null,
   "metadata": {},
   "outputs": [
    {
     "name": "stderr",
     "output_type": "stream",
     "text": [
      "2024-04-18 10:28:18,942 - vs2lab.lab1.clientserver.Server - INFO - Server bound to socket <socket.socket fd=56, family=2, type=1, proto=0, laddr=('127.0.0.1', 50007)>\n",
      "2024-04-18 10:28:18,946 - vs2lab.lab1.clientserver.Server - INFO - Server ready and waiting\n",
      "2024-04-18 10:28:51,454 - vs2lab.lab1.clientserver.Server - INFO - Server recieved request: Bauer Operation: G\n",
      "2024-04-18 10:28:51,460 - vs2lab.lab1.clientserver.Server - INFO - Server sent response:Markus Bauer: 52780574396, Michael Bauer: 643643708598\n",
      "2024-04-18 10:29:02,022 - vs2lab.lab1.clientserver.Server - INFO - Server recieved request:  Operation: A\n",
      "2024-04-18 10:29:02,029 - vs2lab.lab1.clientserver.Server - INFO - Server sent response:Markus Bauer: 52780574396, Michael Bauer: 643643708598, Lisa Meier: 5730496794634\n",
      "2024-04-18 10:43:17,696 - vs2lab.lab1.clientserver.Server - INFO - Server recieved request: Bauer Operation: G\n",
      "2024-04-18 10:43:17,702 - vs2lab.lab1.clientserver.Server - INFO - Server sent response:Markus Bauer: 52780574396, Michael Bauer: 643643708598\n",
      "2024-04-18 10:43:26,516 - vs2lab.lab1.clientserver.Server - INFO - Server recieved request:  Operation: A\n",
      "2024-04-18 10:43:26,520 - vs2lab.lab1.clientserver.Server - INFO - Server sent response:Markus Bauer: 52780574396, Michael Bauer: 643643708598, Lisa Meier: 5730496794634\n"
     ]
    }
   ],
   "source": [
    "import clientserver_t # import from our script\n",
    "\n",
    "server = clientserver_t.Server() # Create a server instance\n",
    "\n",
    "telephoneDB = {\n",
    "    \"Markus Bauer\": \"52780574396\",\n",
    "    \"Michael Bauer\": \"643643708598\",\n",
    "    \"Lisa Meier\": \"5730496794634\"\n",
    "} # Define telephone Database\n",
    "\n",
    "server.serve(telephoneDB) # start server routine in the forked process"
   ]
  },
  {
   "cell_type": "markdown",
   "metadata": {},
   "source": [
    "Finished"
   ]
  },
  {
   "cell_type": "code",
   "execution_count": null,
   "metadata": {},
   "outputs": [],
   "source": []
  }
 ],
 "metadata": {
  "kernelspec": {
   "display_name": "Python 3 (ipykernel)",
   "language": "python",
   "name": "python3"
  },
  "language_info": {
   "codemirror_mode": {
    "name": "ipython",
    "version": 3
   },
   "file_extension": ".py",
   "mimetype": "text/x-python",
   "name": "python",
   "nbconvert_exporter": "python",
   "pygments_lexer": "ipython3",
   "version": "3.11.4"
  }
 },
 "nbformat": 4,
 "nbformat_minor": 4
}
